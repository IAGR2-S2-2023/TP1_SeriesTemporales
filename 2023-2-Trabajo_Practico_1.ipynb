{
 "cells": [
  {
   "cell_type": "markdown",
   "metadata": {
    "colab_type": "text",
    "id": "Y5zYLAE8LTvr"
   },
   "source": [
    "**Instituto Tecnológico de Costa Rica**\n",
    "\n",
    "**Escuela de Ingeniería en Computación**\n",
    "\n",
    "**Curso: Inteligencia Artificial**\n",
    "\n",
    "**Segundo Semestre 2023**\n",
    "\n",
    "**Profesor: Luis-Alexander Calvo-Valverde**\n",
    "\n",
    "**Trabajo Práctico:** 1\n",
    "\n",
    "**Datos de la entrega:** Lunes 25 de setiembre 2023, a más tardar a las 11:59 pm\n",
    "\n",
    "**Estudiantes:**\n",
    "- Daniel Araya Sambucci \n",
    "- Esteban Leiva Montenegro 2020426227\n",
    "\n",
    "\n",
    "\n",
    "\n"
   ]
  },
  {
   "cell_type": "markdown",
   "metadata": {},
   "source": [
    "# Parte 1.  Series temporales y graficación  (65 puntos)\n",
    "\n",
    "1. Se adjuntan un archivo en formato PDF titulado: Lectura_Caps_1-6_15. Estudie los capítulos en el PDF, se adjutan los archivos .csv requeridos para probar el código.\n",
    "1. Luego, utilizando el archivo la serie temporal en el archivo: TS_d_1, realice la presente sección.\n",
    "1. Complete en celdas de código y/o texto según convenga. \n",
    "1. Documente bien su código.\n",
    "1. Considere que el código ejemplo en el PDF podría requerir algún pequeño cambio por un tema de versiones de la biblioteca en el tiempo.\n"
   ]
  },
  {
   "cell_type": "code",
   "execution_count": 35,
   "metadata": {},
   "outputs": [],
   "source": [
    "%matplotlib inline\n",
    "import pandas as pd\n",
    "import numpy as np\n",
    "import matplotlib.pyplot as plt\n",
    "from datetime import datetime"
   ]
  },
  {
   "cell_type": "markdown",
   "metadata": {
    "id": "EH4wZ1YRAqxb"
   },
   "source": [
    "### 1.1\n",
    "- Cargue el archivo.\n",
    "- Muestre los cinco primeros registros.\n",
    "- Muestre qué tipo de datos es la variable  series"
   ]
  },
  {
   "cell_type": "code",
   "execution_count": 31,
   "metadata": {
    "colab": {
     "base_uri": "https://localhost:8080/",
     "height": 141
    },
    "id": "BA-EP3RPAqxW",
    "outputId": "c3e3e79f-0f8b-4c02-b13b-c9e2882d02d9"
   },
   "outputs": [
    {
     "name": "stdout",
     "output_type": "stream",
     "text": [
      "          temperatura\n",
      "fecha                \n",
      "1/1/2004          5.3\n",
      "2/1/2004          5.6\n",
      "3/1/2004          5.9\n",
      "4/1/2004          6.2\n",
      "5/1/2004          8.4\n",
      "<class 'pandas.core.frame.DataFrame'>\n"
     ]
    }
   ],
   "source": [
    "\"\"\"The documetation indicates the use of Series.from_csv() to load files has been deprecated\n",
    "use pandas.read_csv() instead. https://pandas.pydata.org/pandas-docs/version/0.23/generated/pandas.Series.from_csv.html\n",
    "\"\"\"\n",
    "series = pd.read_csv('TS_d_1.csv',\n",
    "                     header=0 , #Specify the header information at row 0\n",
    "                     parse_dates=[0],  #In first column contains dates that need to be parsed\n",
    "                     index_col=0) #Index information for the time\n",
    "print(series.head()) #For default shows first five rows\n",
    "print(type(series)) #Shows series type"
   ]
  },
  {
   "cell_type": "markdown",
   "metadata": {
    "id": "9tNVtXGvAqxe"
   },
   "source": [
    "### 1.2\n",
    "- Muestra el promedio, la mediana y la desviación estándar de los datos"
   ]
  },
  {
   "cell_type": "code",
   "execution_count": 46,
   "metadata": {
    "colab": {
     "base_uri": "https://localhost:8080/",
     "height": 52
    },
    "id": "Leqk_YXcAqxe",
    "outputId": "4e0009cf-6707-4bd8-95cb-d84fa3c3db81"
   },
   "outputs": [
    {
     "name": "stdout",
     "output_type": "stream",
     "text": [
      "Mean:  8.013887134133503\n",
      "Median:  7.4\n",
      "Standard deviation:  3.8639481208695945\n"
     ]
    }
   ],
   "source": [
    "#We can use series.describe() to get stadistics summary or do separately\n",
    "print('Mean: ',series['temperatura'].mean())\n",
    "print('Median: ', series['temperatura'].median())\n",
    "print('Standard deviation: ', series['temperatura'].std())\n"
   ]
  },
  {
   "cell_type": "markdown",
   "metadata": {
    "id": "miPS0QToAqxi"
   },
   "source": [
    "### 1.3\n",
    "- Muestre el promedio para cada uno de los meses del año. Es decir, el promedio para todos los eneros, luego el promedio para todos los febreros, y así sucevivamente."
   ]
  },
  {
   "cell_type": "code",
   "execution_count": 64,
   "metadata": {
    "colab": {
     "base_uri": "https://localhost:8080/",
     "height": 265
    },
    "id": "aNmBM81JAqxj",
    "outputId": "c19f542b-ea68-4a39-b0b6-6a966b3e3749"
   },
   "outputs": [
    {
     "name": "stdout",
     "output_type": "stream",
     "text": [
      "month\n",
      "1     7.688139\n",
      "2     7.735815\n",
      "3     7.874268\n",
      "4     8.524821\n",
      "5     8.221762\n",
      "6     7.273333\n",
      "7     7.706328\n",
      "8     8.226898\n",
      "9     8.821692\n",
      "10    8.498586\n",
      "11    7.806769\n",
      "12    7.776055\n",
      "Name: temperature, dtype: float64\n"
     ]
    }
   ],
   "source": [
    "\n",
    "dataframe = pd.DataFrame() #New dataframe to make another table with other columns\n",
    "dataframe['month'] = [ datetime.strptime(series.index[i],\"%d/%m/%Y\").month for i in range(len(series))] #Assing month to dataframe\n",
    "dataframe['temperature'] = [series['temperatura'].iloc[i] for i in range(len(series))]  #Assing temperature to new dataframe\n",
    "print(dataframe.groupby('month')['temperature'].mean()) #Group for month data and get mean\n",
    "\n"
   ]
  },
  {
   "cell_type": "markdown",
   "metadata": {
    "id": "F2aijX35Aqxm"
   },
   "source": [
    "### 1.4 \n",
    "- Utilizando la técnica de Lag Features, cree un DataFrame con los valores y un Lag=5"
   ]
  },
  {
   "cell_type": "code",
   "execution_count": 88,
   "metadata": {
    "colab": {
     "base_uri": "https://localhost:8080/",
     "height": 123
    },
    "id": "hI1ridvAAqxn",
    "outputId": "7610cd1f-86ed-407e-bc55-fe7cbb03f59b"
   },
   "outputs": [
    {
     "name": "stdout",
     "output_type": "stream",
     "text": [
      "    t-0   t-1    t-2    t-3    t-4\n",
      "0   NaN   NaN    NaN    NaN    NaN\n",
      "1   NaN   NaN    NaN    NaN   5.30\n",
      "2   NaN   NaN    NaN   5.30   5.60\n",
      "3   NaN   NaN   5.30   5.60   5.90\n",
      "4   NaN   5.3   5.60   5.90   6.20\n",
      "5   5.3   5.6   5.90   6.20   8.40\n",
      "6   5.6   5.9   6.20   8.40   7.90\n",
      "7   5.9   6.2   8.40   7.90   7.60\n",
      "8   6.2   8.4   7.90   7.60   7.70\n",
      "9   8.4   7.9   7.60   7.70   7.10\n",
      "10  7.9   7.6   7.70   7.10   6.80\n",
      "11  7.6   7.7   7.10   6.80   5.70\n",
      "12  7.7   7.1   6.80   5.70   6.20\n",
      "13  7.1   6.8   5.70   6.20   6.50\n",
      "14  6.8   5.7   6.20   6.50   5.90\n",
      "15  5.7   6.2   6.50   5.90   8.70\n",
      "16  6.2   6.5   5.90   8.70  12.80\n",
      "17  6.5   5.9   8.70  12.80   5.13\n",
      "18  5.9   8.7  12.80   5.13   5.14\n",
      "19  8.7  12.8   5.13   5.14   5.16\n"
     ]
    }
   ],
   "source": [
    "temps =pd.DataFrame(series.values) #Created a new dataframe with de same values\n",
    "lag: int  = 5 #lag value \n",
    "dataframe = pd.concat([temps.shift(i) for i in range(lag,0 , -1)], axis=1)#uses generical for to create a shifting values  \n",
    "dataframe.columns = [f\"t-{i}\" for i in range(lag)] #uses to create the generical columns\n",
    "print(dataframe.head(20)) #This is for show result"
   ]
  },
  {
   "cell_type": "markdown",
   "metadata": {
    "id": "97T8JyJoAqxq"
   },
   "source": [
    "### 1.5\n",
    "- Utilizando la técnica de rolling window, cree un DataFrame con los valores, y un ancho de ventana de 3. Tenga las columnas: 'mínimo','media','máximo','t+1'"
   ]
  },
  {
   "cell_type": "code",
   "execution_count": 96,
   "metadata": {
    "colab": {
     "base_uri": "https://localhost:8080/",
     "height": 123
    },
    "id": "U7MXlIo7Aqxq",
    "outputId": "353bfc38-d68c-416d-ea56-4dac2c17dc2c"
   },
   "outputs": [
    {
     "name": "stdout",
     "output_type": "stream",
     "text": [
      "   min      mean  max  t+1\n",
      "0  NaN       NaN  NaN  5.3\n",
      "1  NaN       NaN  NaN  5.6\n",
      "2  NaN       NaN  NaN  5.9\n",
      "3  NaN       NaN  NaN  6.2\n",
      "4  5.3  5.600000  5.9  8.4\n",
      "5  5.6  5.900000  6.2  7.9\n",
      "6  5.9  6.833333  8.4  7.6\n",
      "7  6.2  7.500000  8.4  7.7\n",
      "8  7.6  7.966667  8.4  7.1\n",
      "9  7.6  7.733333  7.9  6.8\n"
     ]
    }
   ],
   "source": [
    "\n",
    "temps = pd.DataFrame(series.values)# Create a DataFrame from series values\n",
    "width: int = 3# Set the width of the rolling window\n",
    "shifted = temps.shift(width-1 )# Shift the data by (width - 1) time steps\n",
    "window = shifted.rolling(window=width)# Apply a rolling window with the specified width\n",
    "# Concatenate minimum, mean, maximum, and original values into a new DataFrame\n",
    "dataframe = pd.concat([window.min(), window.mean(), window.max(), temps], axis=1)\n",
    "# Set column names\n",
    "dataframe.columns = ['min', 'mean', 'max', 't+1']\n",
    "# Print the first 5 rows of the resulting DataFrame\n",
    "print(dataframe.head(10))\n",
    "\n",
    "\n",
    "\n"
   ]
  },
  {
   "cell_type": "markdown",
   "metadata": {
    "id": "7luDf08KAqxt"
   },
   "source": [
    "### 1.6\n",
    "- A la variable series, aplíquele la instrucción series.plot(). \n",
    "- ¿Qué puede decir del comportamiento de los datos según este gráfico?"
   ]
  },
  {
   "cell_type": "code",
   "execution_count": 97,
   "metadata": {
    "colab": {
     "base_uri": "https://localhost:8080/",
     "height": 264
    },
    "id": "30z4eKbKAqxt",
    "outputId": "ca0fbf6a-0f32-4bd5-b75d-dec4a5831953"
   },
   "outputs": [
    {
     "data": {
      "text/plain": [
       "<Axes: xlabel='fecha'>"
      ]
     },
     "execution_count": 97,
     "metadata": {},
     "output_type": "execute_result"
    },
    {
     "data": {
      "image/png": "[encoded data removed]",
      "text/plain": [
       "<Figure size 640x480 with 1 Axes>"
      ]
     },
     "metadata": {},
     "output_type": "display_data"
    }
   ],
   "source": [
    "series.plot()\n",
    "\"\"\"\n",
    "\n",
    "\"\"\""
   ]
  },
  {
   "cell_type": "markdown",
   "metadata": {
    "id": "hRSit4mpAqxv"
   },
   "source": [
    "### 1.7\n",
    "\n",
    "- Agrupe los datos y muestre un gráfico similar al de la seccion 6.4 de las lecturas (Stacked lines plots).  \n",
    "- ¿Puede hacer algún comentario del comportamiento anual de los datos?"
   ]
  },
  {
   "cell_type": "code",
   "execution_count": null,
   "metadata": {
    "colab": {
     "base_uri": "https://localhost:8080/",
     "height": 281
    },
    "id": "0bn7ujBQAqxw",
    "outputId": "9b4cccb3-5be5-465c-ed78-9580132bdb5d"
   },
   "outputs": [],
   "source": []
  },
  {
   "cell_type": "markdown",
   "metadata": {
    "id": "4T-6KIX9Aqxy"
   },
   "source": [
    "### 1.8\n",
    "- Muestre el histograma de la variable series. \n",
    "- ¿Qué conclusiones puede sacar del comportamiento de los datos?\n"
   ]
  },
  {
   "cell_type": "code",
   "execution_count": null,
   "metadata": {
    "colab": {
     "base_uri": "https://localhost:8080/",
     "height": 316
    },
    "id": "2yKA2qZLj7bA",
    "outputId": "acca8466-2da0-41c3-ca0b-8ce53ae3d58f"
   },
   "outputs": [],
   "source": []
  },
  {
   "cell_type": "markdown",
   "metadata": {
    "id": "tiMNXl0gAqx2"
   },
   "source": [
    "### 1.9\n",
    "- Muestre el gráfico de densidad de la variable series. \n",
    "- ¿Qué conclusiones puede sacar del comportamiento de los datos?\n"
   ]
  },
  {
   "cell_type": "code",
   "execution_count": null,
   "metadata": {
    "colab": {
     "base_uri": "https://localhost:8080/",
     "height": 264
    },
    "id": "pzC2ExG8Aqx2",
    "outputId": "cf976c33-4539-4eb5-d125-457d813b9c1a"
   },
   "outputs": [],
   "source": []
  },
  {
   "cell_type": "markdown",
   "metadata": {},
   "source": [
    "### 1.10\n",
    "- Agrupe los datos de la variable serie de manera Anual, y muestre los Boxplot de cada año. \n",
    "1. ¿Cómo se interpreta un gráfico Boxplot?\n",
    "1. ¿Qué conclusiones puede sacar del comportamiento de los datos?"
   ]
  },
  {
   "cell_type": "code",
   "execution_count": null,
   "metadata": {
    "colab": {
     "base_uri": "https://localhost:8080/",
     "height": 592
    },
    "id": "Vo9iEmKkAqx5",
    "outputId": "a417f4ba-d82a-479a-c509-14342777f174"
   },
   "outputs": [],
   "source": []
  },
  {
   "cell_type": "markdown",
   "metadata": {
    "id": "HnwFdPx1Aqx7"
   },
   "source": [
    "### 1.11\n",
    "- Agrupe los datos de la variable serie de manera Anual, y muestre el Heat Map por año. \n",
    "1. ¿Cómo se interpreta un gráfico Heat Map?\n",
    "1. ¿Qué conclusiones puede sacar del comportamiento de los datos?\n"
   ]
  },
  {
   "cell_type": "code",
   "execution_count": null,
   "metadata": {
    "colab": {
     "base_uri": "https://localhost:8080/",
     "height": 323
    },
    "id": "5cUNSvbhAqx8",
    "outputId": "2b63bca3-14ed-405a-80f5-4b5f1e85862f"
   },
   "outputs": [],
   "source": []
  },
  {
   "cell_type": "markdown",
   "metadata": {
    "id": "sNrgrlg3Aqx_"
   },
   "source": [
    "### 1.12\n",
    "- Muestre el Lag Scatter plot de la variable series. \n",
    "1. ¿Cómo se interpreta un Lag Scatter plot?\n",
    "1. ¿Qué conclusiones puede sacar del comportamiento de los datos?\n"
   ]
  },
  {
   "cell_type": "code",
   "execution_count": null,
   "metadata": {
    "colab": {
     "base_uri": "https://localhost:8080/",
     "height": 278
    },
    "id": "ChyCxl5YAqyA",
    "outputId": "d56212c1-16cb-4f02-d669-c944483ec9ef"
   },
   "outputs": [],
   "source": []
  },
  {
   "cell_type": "markdown",
   "metadata": {
    "id": "l1zWEbaqAqyC"
   },
   "source": [
    "### 1.13\n",
    "- Muestre el gráfico Autocorrelación de la variable series. \n",
    "1. ¿Cómo se interpreta este tipo de gráficos?\n",
    "1. ¿Qué conclusiones puede sacar del comportamiento de los datos?\n"
   ]
  },
  {
   "cell_type": "code",
   "execution_count": null,
   "metadata": {
    "colab": {
     "base_uri": "https://localhost:8080/",
     "height": 283
    },
    "id": "NfMFaPfEAqyC",
    "outputId": "e0f03803-bbc9-403e-dfdc-1e84655832af"
   },
   "outputs": [],
   "source": []
  },
  {
   "cell_type": "markdown",
   "metadata": {
    "id": "Qsid8DME3hDu"
   },
   "source": [
    "# Parte 2.  Diferenciación  (15 puntos)\n",
    "\n",
    "1. Se adjunta un archivo en formato PDF titulado: Lectura_Caps_1-6_15. Estudie el capítulo 15. Se adjutan los archivos .csv requeridos para probar el código.\n",
    "1. Luego, utilizando el archivo 'TS_d_2.csv' realice la presente sección.\n",
    "1. Complete en celdas de código y/o texto según convenga. \n",
    "1. Documente bien su código."
   ]
  },
  {
   "cell_type": "markdown",
   "metadata": {
    "id": "IE-Jp4rr3hDv"
   },
   "source": [
    "### 2.1\n",
    "- Cargue el archivo proporcionado y muestre los 10 primeros registros."
   ]
  },
  {
   "cell_type": "code",
   "execution_count": null,
   "metadata": {
    "colab": {
     "base_uri": "https://localhost:8080/",
     "height": 164
    },
    "id": "76kKzuhQ7pa9",
    "outputId": "2de79c66-5df4-46ea-e093-37ab1b87758e"
   },
   "outputs": [],
   "source": []
  },
  {
   "cell_type": "markdown",
   "metadata": {
    "id": "B4gG15-C3hDv"
   },
   "source": [
    "### 2.2\n",
    "\n",
    "- Aplique el Augmented Dickey-Fuller test, con una confianza estadística del 95% (por lo tanto un threshold del 0.05)\n",
    "- Explique los resultados"
   ]
  },
  {
   "cell_type": "code",
   "execution_count": null,
   "metadata": {
    "colab": {
     "base_uri": "https://localhost:8080/",
     "height": 90
    },
    "id": "kyueuSPw7zEv",
    "outputId": "726f3516-41f0-4a79-82a2-f17ce11dae60"
   },
   "outputs": [],
   "source": []
  },
  {
   "cell_type": "markdown",
   "metadata": {
    "id": "4KcVyjSR3hDw"
   },
   "source": [
    "### 2.3\n",
    "\n",
    "- Aplique la \"Diferenciación\" a la serie, y al resultado vuelva a aplicarle el Augmented Dickey-Fuller test, con una confianza estadística del 95% (por lo tanto un threshold del 0.05)\n",
    "- Explique los resultados"
   ]
  },
  {
   "cell_type": "code",
   "execution_count": null,
   "metadata": {
    "colab": {
     "base_uri": "https://localhost:8080/",
     "height": 90
    },
    "id": "BVlKGj4D74X9",
    "outputId": "1528179a-82f8-4f30-8a1c-9bf276c19dba"
   },
   "outputs": [],
   "source": []
  },
  {
   "cell_type": "markdown",
   "metadata": {
    "id": "iJJ1x_Wq3hDw"
   },
   "source": [
    "### 2.4\n",
    "\n",
    "- ¿Esta serie requería Diferenciación o no?  Explique el gráfico generado, ¿por qué sé mira así relacionado con la necesidad o no de diferenciación?"
   ]
  },
  {
   "cell_type": "code",
   "execution_count": null,
   "metadata": {
    "colab": {
     "base_uri": "https://localhost:8080/",
     "height": 606
    },
    "id": "0Omw-Yng7-G4",
    "outputId": "a568bd5c-9607-4ddd-866a-c2a9f5d0457d"
   },
   "outputs": [],
   "source": []
  },
  {
   "cell_type": "markdown",
   "metadata": {},
   "source": [
    "### 2.5\n",
    "\n",
    "- ¿Esta serie requería Diferenciación o no?  Explique el gráfico generado, ¿por qué cree que sé mira así?"
   ]
  },
  {
   "cell_type": "code",
   "execution_count": null,
   "metadata": {},
   "outputs": [],
   "source": []
  },
  {
   "cell_type": "markdown",
   "metadata": {},
   "source": [
    "# Parte 3.  ARIMA  (20 puntos)\n",
    "\n",
    "1. Se adjunta un archivo en formato PDF titulado: Lectura_Cap_24. Estudie su contenido. Se adjutan los archivos .csv requeridos para probar el código.\n",
    "1. Luego, utilizando el archivo 'TS_d_3.csv' realice la presente sección.\n",
    "1. Complete en celdas de código y/o texto según convenga. \n",
    "1. Documente bien su código."
   ]
  },
  {
   "cell_type": "markdown",
   "metadata": {},
   "source": [
    "### 3.1\n",
    "\n",
    "- Explique en qué consiste ARIMA."
   ]
  },
  {
   "cell_type": "code",
   "execution_count": null,
   "metadata": {},
   "outputs": [],
   "source": []
  },
  {
   "cell_type": "markdown",
   "metadata": {},
   "source": [
    "### 3.2\n",
    "\n",
    "- Cargue el archivo y use los gráficos que considere prudente para ver cómo se comportan los datos\n",
    "- Comente sus conclusiones"
   ]
  },
  {
   "cell_type": "code",
   "execution_count": null,
   "metadata": {},
   "outputs": [],
   "source": []
  },
  {
   "cell_type": "markdown",
   "metadata": {},
   "source": [
    "### 3.3\n",
    "\n",
    "- Analice si requiere hacer diferenciación o no. Explique"
   ]
  },
  {
   "cell_type": "code",
   "execution_count": null,
   "metadata": {},
   "outputs": [],
   "source": []
  },
  {
   "cell_type": "markdown",
   "metadata": {},
   "source": [
    "### 3.4\n",
    "\n",
    "- Haga forecast (similar a las últimas secciones de ese capítulo), con un train de 80% y un test de 20% (no olvide que son series temporales, no datos i.i.d.)"
   ]
  },
  {
   "cell_type": "code",
   "execution_count": null,
   "metadata": {},
   "outputs": [],
   "source": []
  },
  {
   "cell_type": "markdown",
   "metadata": {},
   "source": [
    "### 3.5\n",
    "\n",
    "- Grafique el predicho versus el real y comente sus conclusiones."
   ]
  },
  {
   "cell_type": "code",
   "execution_count": null,
   "metadata": {},
   "outputs": [],
   "source": []
  }
 ],
 "metadata": {
  "colab": {
   "collapsed_sections": [],
   "name": "Evaluación_01.ipynb",
   "provenance": []
  },
  "kernelspec": {
   "display_name": "Python 3 (ipykernel)",
   "language": "python",
   "name": "python3"
  },
  "language_info": {
   "codemirror_mode": {
    "name": "ipython",
    "version": 3
   },
   "file_extension": ".py",
   "mimetype": "text/x-python",
   "name": "python",
   "nbconvert_exporter": "python",
   "pygments_lexer": "ipython3",
   "version": "3.11.4"
  }
 },
 "nbformat": 4,
 "nbformat_minor": 1
}
